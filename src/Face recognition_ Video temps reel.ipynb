{
 "cells": [
  {
   "cell_type": "code",
   "execution_count": 1,
   "metadata": {
    "id": "8xeHFhdBSG3k"
   },
   "outputs": [],
   "source": [
    "import face_recognition\n",
    "import cv2\n",
    "import numpy as np"
   ]
  },
  {
   "cell_type": "code",
   "execution_count": 2,
   "metadata": {
    "id": "ZWNlFsnod45E"
   },
   "outputs": [],
   "source": [
    "## Charger une video avec un visage inconnu\n",
    "video_capture = cv2.VideoCapture(0)"
   ]
  },
  {
   "cell_type": "code",
   "execution_count": 3,
   "metadata": {
    "id": "0TOEiSGseJJe"
   },
   "outputs": [
    {
     "data": {
      "text/plain": [
       "array([-4.01220992e-02,  8.49318430e-02,  1.15542665e-01, -8.76117051e-02,\n",
       "       -1.01068586e-01, -1.69236697e-02, -4.10420299e-02, -3.63746285e-02,\n",
       "        1.46230876e-01, -9.06954780e-02,  2.00049877e-01,  1.31689012e-05,\n",
       "       -2.39586622e-01, -3.04657668e-02, -9.27262604e-02,  1.56054974e-01,\n",
       "       -1.10481970e-01, -1.24103889e-01, -1.00582637e-01, -1.32538036e-01,\n",
       "        7.88776577e-02,  4.76698950e-02, -1.22430362e-01,  5.76823764e-02,\n",
       "       -1.24891713e-01, -2.61060208e-01, -9.56556424e-02, -7.87299871e-02,\n",
       "        7.25969076e-02, -2.20623240e-01,  6.14385307e-03, -2.31684782e-02,\n",
       "       -1.32507250e-01, -3.19429375e-02, -3.33818328e-03,  5.16256727e-02,\n",
       "       -4.56879549e-02, -1.15841404e-01,  1.71642914e-01,  1.04383104e-01,\n",
       "       -9.02538672e-02,  1.34719104e-01,  9.16020498e-02,  3.28958869e-01,\n",
       "        1.45903111e-01,  8.80872309e-02,  4.33199480e-02, -2.11801026e-02,\n",
       "        1.55210152e-01, -2.28925854e-01,  5.00173420e-02,  1.29295275e-01,\n",
       "        1.16312370e-01,  9.83875766e-02,  1.56764612e-01, -1.75404087e-01,\n",
       "       -4.14991155e-02,  8.55762661e-02, -2.58255780e-01,  1.20828845e-01,\n",
       "        5.00067510e-02,  2.67790947e-02, -5.44154570e-02, -9.41939428e-02,\n",
       "        1.40318066e-01,  6.60573393e-02, -1.40552744e-01, -7.97242373e-02,\n",
       "        1.42007679e-01, -2.18692362e-01, -1.72572806e-02,  2.88729779e-02,\n",
       "       -9.22572687e-02, -9.81750041e-02, -1.94457978e-01,  1.11065358e-01,\n",
       "        4.20720130e-01,  2.29725778e-01, -1.51765764e-01, -1.87392402e-02,\n",
       "       -3.13072205e-02, -5.56162968e-02,  4.85725403e-02, -2.22349335e-02,\n",
       "       -5.36443815e-02,  7.41216354e-03, -4.20785770e-02,  6.00241646e-02,\n",
       "        1.36207238e-01,  4.47239205e-02,  4.29767370e-02,  2.28774428e-01,\n",
       "        6.09171316e-02, -2.76965387e-02, -3.92919481e-02, -1.95582639e-02,\n",
       "       -1.89696744e-01, -5.14900684e-02, -9.48520303e-02, -4.72795218e-02,\n",
       "       -5.88064939e-02, -5.23052625e-02,  5.99816851e-02,  4.93568033e-02,\n",
       "       -1.10867396e-01,  1.33416459e-01,  2.65090000e-02, -6.02706522e-02,\n",
       "       -1.14035957e-01,  1.65630981e-01, -2.12884262e-01, -5.22821993e-02,\n",
       "        1.41008869e-01, -2.39509612e-01,  1.29364431e-01,  1.89040750e-01,\n",
       "        3.49581279e-02,  3.71648371e-02,  9.02538076e-02,  5.55931851e-02,\n",
       "        1.34891728e-02, -3.77680659e-02, -3.46386321e-02, -1.27919629e-01,\n",
       "       -1.12498775e-02, -2.48542354e-02,  7.97319859e-02, -1.89531222e-03])"
      ]
     },
     "execution_count": 3,
     "metadata": {},
     "output_type": "execute_result"
    }
   ],
   "source": [
    "# Charger un exemple d'image et apprendre à le reconnaître.\n",
    "Lounis_OUMOHAND= face_recognition.load_image_file(r\"C:\\Users\\oumoh\\Downloads\\lounis.jpg\")\n",
    "lounis_face_encoding = face_recognition.face_encodings(Lounis_OUMOHAND)[0]\n",
    "Lounis_OUMOHAND\n",
    "lounis_face_encoding"
   ]
  },
  {
   "cell_type": "code",
   "execution_count": 5,
   "metadata": {
    "id": "CqaoG4hleyxa"
   },
   "outputs": [],
   "source": [
    "# Nabil bensafia\n",
    "Nabil_BENSAFIA= face_recognition.load_image_file(r\"C:\\Users\\oumoh\\Downloads\\nabil.png\")\n",
    "Nabil_face_encoding = face_recognition.face_encodings(Nabil_BENSAFIA)[0]"
   ]
  },
  {
   "cell_type": "code",
   "execution_count": 6,
   "metadata": {},
   "outputs": [],
   "source": []
  },
  {
   "cell_type": "code",
   "execution_count": 6,
   "metadata": {
    "id": "zL9bVS_jfC6Y"
   },
   "outputs": [],
   "source": [
    "# Créer des tableaux d'encodages de visage connus et leurs noms\n",
    "known_face_encodings = [\n",
    "    lounis_face_encoding,\n",
    "    Nabil_face_encoding\n",
    "]\n",
    "\n",
    "known_face_names = [\n",
    "    \"Lounis_OUMOHAND\",\n",
    "    \"Nabil_BENSAFIA\"   \n",
    "]"
   ]
  },
  {
   "cell_type": "code",
   "execution_count": null,
   "metadata": {},
   "outputs": [],
   "source": [
    "# Initialisation\n",
    "\n",
    "face_locations = []\n",
    "face_encodings = []\n",
    "face_names = []\n",
    "process_this_frame = True\n",
    "\n",
    "while True:\n",
    "    # Grab a single frame of video\n",
    "    ret, frame = video_capture.read()\n",
    "\n",
    "    # Resize frame of video to 1/4 size for faster face recognition processing\n",
    "    small_frame = cv2.resize(frame, (0, 0), fx=0.25, fy=0.25)\n",
    "\n",
    "    # Convert the image from BGR color (which OpenCV uses) to RGB color (which face_recognition uses)\n",
    "    rgb_small_frame = small_frame[:, :, ::-1]\n",
    "\n",
    "    # Only process every other frame of video to save time\n",
    "    if process_this_frame:\n",
    "        # Find all the faces and face encodings in the current frame of video\n",
    "        face_locations = face_recognition.face_locations(rgb_small_frame)\n",
    "        face_encodings = face_recognition.face_encodings(rgb_small_frame, face_locations)\n",
    "\n",
    "        face_names = []\n",
    "        for face_encoding in face_encodings:\n",
    "            # See if the face is a match for the known face(s)\n",
    "            matches = face_recognition.compare_faces(known_face_encodings, face_encoding)\n",
    "            name = \"Unknown\"\n",
    "\n",
    "            # # If a match was found in known_face_encodings, just use the first one.\n",
    "            # if True in matches:\n",
    "            #     first_match_index = matches.index(True)\n",
    "            #     name = known_face_names[first_match_index]\n",
    "\n",
    "            # Or instead, use the known face with the smallest distance to the new face\n",
    "            face_distances = face_recognition.face_distance(known_face_encodings, face_encoding)\n",
    "            best_match_index = np.argmin(face_distances)\n",
    "            if matches[best_match_index]:\n",
    "                name = known_face_names[best_match_index]\n",
    "\n",
    "            face_names.append(name)\n",
    "\n",
    "    process_this_frame = not process_this_frame\n",
    "\n",
    "\n",
    "    # Display the results\n",
    "    for (top, right, bottom, left), name in zip(face_locations, face_names):\n",
    "        # Scale back up face locations since the frame we detected in was scaled to 1/4 size\n",
    "        top *= 4\n",
    "        right *= 4\n",
    "        bottom *= 4\n",
    "        left *= 4\n",
    "\n",
    "        # Draw a box around the face\n",
    "        cv2.rectangle(frame, (left, top), (right, bottom), (0, 0, 255), 2)\n",
    "\n",
    "        # Draw a label with a name below the face\n",
    "        cv2.rectangle(frame, (left, bottom - 35), (right, bottom), (0, 0, 255), cv2.FILLED)\n",
    "        font = cv2.FONT_HERSHEY_DUPLEX\n",
    "        cv2.putText(frame, name, (left + 6, bottom - 6), font, 1.0, (255, 255, 255), 1)\n",
    "\n",
    "    # Display the resulting image\n",
    "    cv2.imshow('Video', frame)\n",
    "\n",
    "    # Hit 'q' on the keyboard to quit!\n",
    "    if cv2.waitKey(1) & 0xFF == ord('q'):\n",
    "        break\n",
    "\n",
    "# Release handle to the webcam\n",
    "video_capture.release()\n",
    "cv2.destroyAllWindows()"
   ]
  },
  {
   "cell_type": "code",
   "execution_count": null,
   "metadata": {},
   "outputs": [],
   "source": []
  },
  {
   "cell_type": "code",
   "execution_count": null,
   "metadata": {},
   "outputs": [],
   "source": []
  },
  {
   "cell_type": "code",
   "execution_count": null,
   "metadata": {},
   "outputs": [],
   "source": []
  }
 ],
 "metadata": {
  "accelerator": "GPU",
  "colab": {
   "name": "RECO",
   "provenance": []
  },
  "kernelspec": {
   "display_name": "Python 3",
   "language": "python",
   "name": "python3"
  },
  "language_info": {
   "codemirror_mode": {
    "name": "ipython",
    "version": 3
   },
   "file_extension": ".py",
   "mimetype": "text/x-python",
   "name": "python",
   "nbconvert_exporter": "python",
   "pygments_lexer": "ipython3",
   "version": "3.8.8"
  }
 },
 "nbformat": 4,
 "nbformat_minor": 1
}
